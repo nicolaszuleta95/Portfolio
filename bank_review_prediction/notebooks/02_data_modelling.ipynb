{
 "cells": [
  {
   "cell_type": "markdown",
   "metadata": {},
   "source": [
    "# Modelamiento de Datos"
   ]
  },
  {
   "cell_type": "code",
   "execution_count": 91,
   "metadata": {},
   "outputs": [],
   "source": [
    "import pandas as pd\n",
    "import numpy as np\n",
    "from sklearn.feature_extraction.text import TfidfVectorizer\n",
    "from sklearn.linear_model import LogisticRegression\n",
    "from sklearn.ensemble import RandomForestClassifier\n",
    "from xgboost import XGBClassifier\n",
    "from sklearn.svm import SVC\n",
    "from sklearn.metrics import accuracy_score, precision_score, recall_score, f1_score, roc_auc_score\n",
    "from imblearn.over_sampling import SMOTE"
   ]
  },
  {
   "cell_type": "code",
   "execution_count": 92,
   "metadata": {},
   "outputs": [],
   "source": [
    "# cargar datos train y test\n",
    "\n",
    "train = pd.read_csv('../data/train.csv')\n",
    "test = pd.read_csv('../data/test.csv')"
   ]
  },
  {
   "cell_type": "code",
   "execution_count": 93,
   "metadata": {},
   "outputs": [
    {
     "data": {
      "application/vnd.microsoft.datawrangler.viewer.v0+json": {
       "columns": [
        {
         "name": "index",
         "rawType": "int64",
         "type": "integer"
        },
        {
         "name": "bank",
         "rawType": "object",
         "type": "string"
        },
        {
         "name": "rating",
         "rawType": "float64",
         "type": "float"
        },
        {
         "name": "review_title_by_user",
         "rawType": "object",
         "type": "string"
        },
        {
         "name": "review",
         "rawType": "object",
         "type": "string"
        },
        {
         "name": "rating_title_by_user",
         "rawType": "object",
         "type": "string"
        },
        {
         "name": "useful_count",
         "rawType": "int64",
         "type": "integer"
        },
        {
         "name": "review_length",
         "rawType": "int64",
         "type": "integer"
        },
        {
         "name": "positive_words",
         "rawType": "int64",
         "type": "integer"
        },
        {
         "name": "negative_words",
         "rawType": "int64",
         "type": "integer"
        }
       ],
       "conversionMethod": "pd.DataFrame",
       "ref": "238a2079-57a8-46e4-8bf3-702446911a44",
       "rows": [
        [
         "0",
         "review",
         "5.0",
         "\"Best account\"",
         "transaction indian bank branch near residence keeping minimum balance r faced issue till indian bank good customer service saving account normal rate interest",
         "Blown Away!",
         "13",
         "23",
         "1",
         "0"
        ],
        [
         "1",
         "HDFC Bank",
         "3.5",
         "\"Need to improve the service\"",
         "holding salary account hdfc bank past year sometimes done cheque bounce charged high account hence im planning change salary account taking much amount account without prior intimation call customer care also wont respond properly hence im fed account",
         "Pretty good",
         "0",
         "38",
         "0",
         "0"
        ],
        [
         "2",
         "HDFC Bank",
         "3.5",
         "\"Good bank\"",
         "year salary account hdfc made transaction account year used left job company started new business zero balance account online banking facility really good",
         "Pretty good",
         "0",
         "23",
         "1",
         "0"
        ],
        [
         "3",
         "SBI",
         "5.0",
         "\"Good account\"",
         "sbi service good glad account opened account year need maintain minimum amount hidden charge atm branch bit far away place far faced charge sm alert atm withdrawal",
         "Blown Away!",
         "0",
         "27",
         "2",
         "0"
        ],
        [
         "4",
         "HDFC Bank",
         "4.5",
         "\"Good \"",
         "month opened salary account hdfc bank hidden charge bank zero balance account using mobile app atm branch near reach directly use get offer message shopping discount avail",
         "Excellent!",
         "2",
         "27",
         "0",
         "0"
        ]
       ],
       "shape": {
        "columns": 9,
        "rows": 5
       }
      },
      "text/html": [
       "<div>\n",
       "<style scoped>\n",
       "    .dataframe tbody tr th:only-of-type {\n",
       "        vertical-align: middle;\n",
       "    }\n",
       "\n",
       "    .dataframe tbody tr th {\n",
       "        vertical-align: top;\n",
       "    }\n",
       "\n",
       "    .dataframe thead th {\n",
       "        text-align: right;\n",
       "    }\n",
       "</style>\n",
       "<table border=\"1\" class=\"dataframe\">\n",
       "  <thead>\n",
       "    <tr style=\"text-align: right;\">\n",
       "      <th></th>\n",
       "      <th>bank</th>\n",
       "      <th>rating</th>\n",
       "      <th>review_title_by_user</th>\n",
       "      <th>review</th>\n",
       "      <th>rating_title_by_user</th>\n",
       "      <th>useful_count</th>\n",
       "      <th>review_length</th>\n",
       "      <th>positive_words</th>\n",
       "      <th>negative_words</th>\n",
       "    </tr>\n",
       "  </thead>\n",
       "  <tbody>\n",
       "    <tr>\n",
       "      <th>0</th>\n",
       "      <td>review</td>\n",
       "      <td>5.0</td>\n",
       "      <td>\"Best account\"</td>\n",
       "      <td>transaction indian bank branch near residence ...</td>\n",
       "      <td>Blown Away!</td>\n",
       "      <td>13</td>\n",
       "      <td>23</td>\n",
       "      <td>1</td>\n",
       "      <td>0</td>\n",
       "    </tr>\n",
       "    <tr>\n",
       "      <th>1</th>\n",
       "      <td>HDFC Bank</td>\n",
       "      <td>3.5</td>\n",
       "      <td>\"Need to improve the service\"</td>\n",
       "      <td>holding salary account hdfc bank past year som...</td>\n",
       "      <td>Pretty good</td>\n",
       "      <td>0</td>\n",
       "      <td>38</td>\n",
       "      <td>0</td>\n",
       "      <td>0</td>\n",
       "    </tr>\n",
       "    <tr>\n",
       "      <th>2</th>\n",
       "      <td>HDFC Bank</td>\n",
       "      <td>3.5</td>\n",
       "      <td>\"Good bank\"</td>\n",
       "      <td>year salary account hdfc made transaction acco...</td>\n",
       "      <td>Pretty good</td>\n",
       "      <td>0</td>\n",
       "      <td>23</td>\n",
       "      <td>1</td>\n",
       "      <td>0</td>\n",
       "    </tr>\n",
       "    <tr>\n",
       "      <th>3</th>\n",
       "      <td>SBI</td>\n",
       "      <td>5.0</td>\n",
       "      <td>\"Good account\"</td>\n",
       "      <td>sbi service good glad account opened account y...</td>\n",
       "      <td>Blown Away!</td>\n",
       "      <td>0</td>\n",
       "      <td>27</td>\n",
       "      <td>2</td>\n",
       "      <td>0</td>\n",
       "    </tr>\n",
       "    <tr>\n",
       "      <th>4</th>\n",
       "      <td>HDFC Bank</td>\n",
       "      <td>4.5</td>\n",
       "      <td>\"Good \"</td>\n",
       "      <td>month opened salary account hdfc bank hidden c...</td>\n",
       "      <td>Excellent!</td>\n",
       "      <td>2</td>\n",
       "      <td>27</td>\n",
       "      <td>0</td>\n",
       "      <td>0</td>\n",
       "    </tr>\n",
       "  </tbody>\n",
       "</table>\n",
       "</div>"
      ],
      "text/plain": [
       "        bank  rating           review_title_by_user  \\\n",
       "0     review     5.0                 \"Best account\"   \n",
       "1  HDFC Bank     3.5  \"Need to improve the service\"   \n",
       "2  HDFC Bank     3.5                    \"Good bank\"   \n",
       "3        SBI     5.0                 \"Good account\"   \n",
       "4  HDFC Bank     4.5                        \"Good \"   \n",
       "\n",
       "                                              review rating_title_by_user  \\\n",
       "0  transaction indian bank branch near residence ...          Blown Away!   \n",
       "1  holding salary account hdfc bank past year som...          Pretty good   \n",
       "2  year salary account hdfc made transaction acco...          Pretty good   \n",
       "3  sbi service good glad account opened account y...          Blown Away!   \n",
       "4  month opened salary account hdfc bank hidden c...           Excellent!   \n",
       "\n",
       "   useful_count  review_length  positive_words  negative_words  \n",
       "0            13             23               1               0  \n",
       "1             0             38               0               0  \n",
       "2             0             23               1               0  \n",
       "3             0             27               2               0  \n",
       "4             2             27               0               0  "
      ]
     },
     "execution_count": 93,
     "metadata": {},
     "output_type": "execute_result"
    }
   ],
   "source": [
    "train.head()"
   ]
  },
  {
   "cell_type": "code",
   "execution_count": 94,
   "metadata": {},
   "outputs": [
    {
     "data": {
      "application/vnd.microsoft.datawrangler.viewer.v0+json": {
       "columns": [
        {
         "name": "index",
         "rawType": "int64",
         "type": "integer"
        },
        {
         "name": "bank",
         "rawType": "object",
         "type": "string"
        },
        {
         "name": "rating",
         "rawType": "float64",
         "type": "float"
        },
        {
         "name": "review_title_by_user",
         "rawType": "object",
         "type": "string"
        },
        {
         "name": "review",
         "rawType": "object",
         "type": "string"
        },
        {
         "name": "rating_title_by_user",
         "rawType": "object",
         "type": "string"
        },
        {
         "name": "useful_count",
         "rawType": "int64",
         "type": "integer"
        },
        {
         "name": "review_length",
         "rawType": "int64",
         "type": "integer"
        },
        {
         "name": "positive_words",
         "rawType": "int64",
         "type": "integer"
        },
        {
         "name": "negative_words",
         "rawType": "int64",
         "type": "integer"
        }
       ],
       "conversionMethod": "pd.DataFrame",
       "ref": "6a11ce9f-0d8a-42bf-b000-913f43651620",
       "rows": [
        [
         "0",
         "HDFC Bank",
         "5.0",
         "\"Best salary account\"",
         "holding salary account hdfc bank past month customer service response good call customer care also responding properly zero balance account need maintain minimum balance",
         "Blown Away!",
         "0",
         "24",
         "1",
         "0"
        ],
        [
         "1",
         "HDFC Bank",
         "5.0",
         "\"Excellent service \"",
         "holding salary account hdfc bank year zero balance account hidden charge use get alert message time whenever transaction atm near branch far km away place atm charge applicable transaction time month use get offer message bank",
         "Blown Away!",
         "0",
         "36",
         "0",
         "0"
        ],
        [
         "2",
         "Axis Bank",
         "5.0",
         "\"Very Good Service\"",
         "axis bank saving account past year using net banking service well mobile banking service used money transfer also track transaction detail contact customer service query get quick response comfortable banking service",
         "Blown Away!",
         "0",
         "31",
         "0",
         "0"
        ],
        [
         "3",
         "review",
         "3.0",
         "\"Good \"",
         "holding salary account indian overseas bank year hidden charge bank zero balance account using mobile app net banking user friendly access use get alert message bank whenever transaction",
         "Satisfactory",
         "2",
         "28",
         "1",
         "0"
        ],
        [
         "4",
         "Kotak",
         "4.0",
         "\"Good service\"",
         "saving account kotak bank year zero balance account atm charge avail usually use transaction le mostly use online transaction atm branch service good",
         "Great!",
         "1",
         "23",
         "1",
         "0"
        ]
       ],
       "shape": {
        "columns": 9,
        "rows": 5
       }
      },
      "text/html": [
       "<div>\n",
       "<style scoped>\n",
       "    .dataframe tbody tr th:only-of-type {\n",
       "        vertical-align: middle;\n",
       "    }\n",
       "\n",
       "    .dataframe tbody tr th {\n",
       "        vertical-align: top;\n",
       "    }\n",
       "\n",
       "    .dataframe thead th {\n",
       "        text-align: right;\n",
       "    }\n",
       "</style>\n",
       "<table border=\"1\" class=\"dataframe\">\n",
       "  <thead>\n",
       "    <tr style=\"text-align: right;\">\n",
       "      <th></th>\n",
       "      <th>bank</th>\n",
       "      <th>rating</th>\n",
       "      <th>review_title_by_user</th>\n",
       "      <th>review</th>\n",
       "      <th>rating_title_by_user</th>\n",
       "      <th>useful_count</th>\n",
       "      <th>review_length</th>\n",
       "      <th>positive_words</th>\n",
       "      <th>negative_words</th>\n",
       "    </tr>\n",
       "  </thead>\n",
       "  <tbody>\n",
       "    <tr>\n",
       "      <th>0</th>\n",
       "      <td>HDFC Bank</td>\n",
       "      <td>5.0</td>\n",
       "      <td>\"Best salary account\"</td>\n",
       "      <td>holding salary account hdfc bank past month cu...</td>\n",
       "      <td>Blown Away!</td>\n",
       "      <td>0</td>\n",
       "      <td>24</td>\n",
       "      <td>1</td>\n",
       "      <td>0</td>\n",
       "    </tr>\n",
       "    <tr>\n",
       "      <th>1</th>\n",
       "      <td>HDFC Bank</td>\n",
       "      <td>5.0</td>\n",
       "      <td>\"Excellent service \"</td>\n",
       "      <td>holding salary account hdfc bank year zero bal...</td>\n",
       "      <td>Blown Away!</td>\n",
       "      <td>0</td>\n",
       "      <td>36</td>\n",
       "      <td>0</td>\n",
       "      <td>0</td>\n",
       "    </tr>\n",
       "    <tr>\n",
       "      <th>2</th>\n",
       "      <td>Axis Bank</td>\n",
       "      <td>5.0</td>\n",
       "      <td>\"Very Good Service\"</td>\n",
       "      <td>axis bank saving account past year using net b...</td>\n",
       "      <td>Blown Away!</td>\n",
       "      <td>0</td>\n",
       "      <td>31</td>\n",
       "      <td>0</td>\n",
       "      <td>0</td>\n",
       "    </tr>\n",
       "    <tr>\n",
       "      <th>3</th>\n",
       "      <td>review</td>\n",
       "      <td>3.0</td>\n",
       "      <td>\"Good \"</td>\n",
       "      <td>holding salary account indian overseas bank ye...</td>\n",
       "      <td>Satisfactory</td>\n",
       "      <td>2</td>\n",
       "      <td>28</td>\n",
       "      <td>1</td>\n",
       "      <td>0</td>\n",
       "    </tr>\n",
       "    <tr>\n",
       "      <th>4</th>\n",
       "      <td>Kotak</td>\n",
       "      <td>4.0</td>\n",
       "      <td>\"Good service\"</td>\n",
       "      <td>saving account kotak bank year zero balance ac...</td>\n",
       "      <td>Great!</td>\n",
       "      <td>1</td>\n",
       "      <td>23</td>\n",
       "      <td>1</td>\n",
       "      <td>0</td>\n",
       "    </tr>\n",
       "  </tbody>\n",
       "</table>\n",
       "</div>"
      ],
      "text/plain": [
       "        bank  rating   review_title_by_user  \\\n",
       "0  HDFC Bank     5.0  \"Best salary account\"   \n",
       "1  HDFC Bank     5.0   \"Excellent service \"   \n",
       "2  Axis Bank     5.0    \"Very Good Service\"   \n",
       "3     review     3.0                \"Good \"   \n",
       "4      Kotak     4.0         \"Good service\"   \n",
       "\n",
       "                                              review rating_title_by_user  \\\n",
       "0  holding salary account hdfc bank past month cu...          Blown Away!   \n",
       "1  holding salary account hdfc bank year zero bal...          Blown Away!   \n",
       "2  axis bank saving account past year using net b...          Blown Away!   \n",
       "3  holding salary account indian overseas bank ye...         Satisfactory   \n",
       "4  saving account kotak bank year zero balance ac...               Great!   \n",
       "\n",
       "   useful_count  review_length  positive_words  negative_words  \n",
       "0             0             24               1               0  \n",
       "1             0             36               0               0  \n",
       "2             0             31               0               0  \n",
       "3             2             28               1               0  \n",
       "4             1             23               1               0  "
      ]
     },
     "execution_count": 94,
     "metadata": {},
     "output_type": "execute_result"
    }
   ],
   "source": [
    "test.head()"
   ]
  },
  {
   "cell_type": "code",
   "execution_count": 95,
   "metadata": {},
   "outputs": [],
   "source": [
    "# Vectorización TF-IDF\n",
    "vectorizer = TfidfVectorizer(max_features=10000)\n",
    "X_train = vectorizer.fit_transform(train[\"review\"])\n",
    "X_test = vectorizer.transform(test[\"review\"])"
   ]
  },
  {
   "cell_type": "code",
   "execution_count": 96,
   "metadata": {},
   "outputs": [],
   "source": [
    "y_train = train[\"rating\"]\n",
    "y_test = test[\"rating\"]"
   ]
  },
  {
   "cell_type": "code",
   "execution_count": 97,
   "metadata": {},
   "outputs": [],
   "source": [
    "# Convertir etiquetas continuas a etiquetas discretas\n",
    "y_train_discrete = y_train.round().astype(int)\n",
    "y_test_discrete = y_test.round().astype(int)"
   ]
  },
  {
   "cell_type": "code",
   "execution_count": 98,
   "metadata": {},
   "outputs": [
    {
     "name": "stdout",
     "output_type": "stream",
     "text": [
      "Distribución de clases antes de SMOTE: 5    440\n",
      "4    259\n",
      "3     61\n",
      "2     25\n",
      "1      8\n",
      "0      7\n",
      "Name: rating, dtype: int64\n",
      "Distribución de clases después de SMOTE: 5    440\n",
      "4    440\n",
      "3    440\n",
      "0    440\n",
      "2    440\n",
      "1    440\n",
      "Name: rating, dtype: int64\n"
     ]
    }
   ],
   "source": [
    "# Aplicar SMOTE para balancear las clases\n",
    "smote = SMOTE(random_state=42)\n",
    "X_train_balanced, y_train_balanced = smote.fit_resample(X_train, y_train_discrete)\n",
    "\n",
    "# Verificar la distribución de clases después de aplicar SMOTE\n",
    "print(\"Distribución de clases antes de SMOTE:\", y_train_discrete.value_counts())\n",
    "print(\"Distribución de clases después de SMOTE:\", y_train_balanced.value_counts())"
   ]
  },
  {
   "cell_type": "code",
   "execution_count": 99,
   "metadata": {},
   "outputs": [
    {
     "name": "stderr",
     "output_type": "stream",
     "text": [
      "c:\\Users\\nicol\\AppData\\Local\\Programs\\Python\\Python39\\lib\\site-packages\\xgboost\\sklearn.py:1395: UserWarning: `use_label_encoder` is deprecated in 1.7.0.\n",
      "  warnings.warn(\"`use_label_encoder` is deprecated in 1.7.0.\")\n"
     ]
    }
   ],
   "source": [
    "# Modelos a evaluar\n",
    "models = {\n",
    "    \"Logistic Regression\": LogisticRegression(),\n",
    "    \"Random Forest\": RandomForestClassifier(n_estimators=100, random_state=42),\n",
    "    \"XGBoost\": XGBClassifier(use_label_encoder=False, eval_metric=\"mlogloss\"),\n",
    "    \"SVM\": SVC(probability=True)\n",
    "}"
   ]
  },
  {
   "cell_type": "code",
   "execution_count": 100,
   "metadata": {},
   "outputs": [
    {
     "name": "stderr",
     "output_type": "stream",
     "text": [
      "c:\\Users\\nicol\\AppData\\Local\\Programs\\Python\\Python39\\lib\\site-packages\\sklearn\\metrics\\_classification.py:1334: UndefinedMetricWarning: Precision is ill-defined and being set to 0.0 in labels with no predicted samples. Use `zero_division` parameter to control this behavior.\n",
      "  _warn_prf(average, modifier, msg_start, len(result))\n",
      "c:\\Users\\nicol\\AppData\\Local\\Programs\\Python\\Python39\\lib\\site-packages\\sklearn\\metrics\\_classification.py:1334: UndefinedMetricWarning: Precision is ill-defined and being set to 0.0 in labels with no predicted samples. Use `zero_division` parameter to control this behavior.\n",
      "  _warn_prf(average, modifier, msg_start, len(result))\n",
      "c:\\Users\\nicol\\AppData\\Local\\Programs\\Python\\Python39\\lib\\site-packages\\sklearn\\metrics\\_classification.py:1334: UndefinedMetricWarning: Precision is ill-defined and being set to 0.0 in labels with no predicted samples. Use `zero_division` parameter to control this behavior.\n",
      "  _warn_prf(average, modifier, msg_start, len(result))\n",
      "c:\\Users\\nicol\\AppData\\Local\\Programs\\Python\\Python39\\lib\\site-packages\\sklearn\\metrics\\_classification.py:1334: UndefinedMetricWarning: Precision is ill-defined and being set to 0.0 in labels with no predicted samples. Use `zero_division` parameter to control this behavior.\n",
      "  _warn_prf(average, modifier, msg_start, len(result))\n"
     ]
    }
   ],
   "source": [
    "# Evaluación de modelos\n",
    "results = []\n",
    "\n",
    "for name, model in models.items():\n",
    "    model.fit(X_train, y_train_discrete)\n",
    "    y_pred = model.predict(X_test)\n",
    "    y_proba = model.predict_proba(X_test) if hasattr(model, \"predict_proba\") else None\n",
    "\n",
    "    metrics = {\n",
    "        \"Model\": name,\n",
    "        \"Accuracy\": accuracy_score(y_test_discrete, y_pred),\n",
    "        \"Precision\": precision_score(y_test_discrete, y_pred, average=\"weighted\"),\n",
    "        \"Recall\": recall_score(y_test_discrete, y_pred, average=\"weighted\"),\n",
    "        \"F1-score\": f1_score(y_test_discrete, y_pred, average=\"weighted\"),\n",
    "        \"AUC-ROC\": roc_auc_score(y_test_discrete, y_proba, multi_class=\"ovr\") if y_proba is not None else np.nan\n",
    "    }\n",
    "\n",
    "    results.append(metrics)\n",
    "\n",
    "# Convertir resultados en DataFrame y ordenarlos por F1-score\n",
    "df_results = pd.DataFrame(results).sort_values(by=\"F1-score\", ascending=False)\n"
   ]
  },
  {
   "cell_type": "code",
   "execution_count": 101,
   "metadata": {},
   "outputs": [
    {
     "name": "stdout",
     "output_type": "stream",
     "text": [
      "                 Model  Accuracy  Precision  Recall  F1-score   AUC-ROC\n",
      "2              XGBoost      0.47   0.397045    0.47  0.427571  0.598183\n",
      "0  Logistic Regression      0.50   0.386212    0.50  0.421457  0.664698\n",
      "3                  SVM      0.55   0.399201    0.55  0.410107  0.668923\n",
      "1        Random Forest      0.46   0.311543    0.46  0.366077  0.615350\n"
     ]
    }
   ],
   "source": [
    "print(df_results)"
   ]
  },
  {
   "cell_type": "markdown",
   "metadata": {},
   "source": [
    "Los valores de precisión son bajos, lo que indica que el modelo no está identificando bien las clases."
   ]
  },
  {
   "cell_type": "markdown",
   "metadata": {},
   "source": [
    "## Con Word2Vec/GloVe en lugar de TF-IDF."
   ]
  },
  {
   "cell_type": "code",
   "execution_count": 102,
   "metadata": {},
   "outputs": [],
   "source": [
    "from gensim.models import Word2Vec\n",
    "from sklearn.preprocessing import StandardScaler\n",
    "\n",
    "# Entrenar el modelo Word2Vec\n",
    "sentences = [review.split() for review in train[\"review\"]]\n",
    "word2vec_model = Word2Vec(sentences, vector_size=100, window=5, min_count=1, workers=4)\n",
    "\n",
    "# Crear una función para obtener el vector promedio de las palabras en una reseña\n",
    "def get_average_word2vec(review, model, vector_size):\n",
    "    words = review.split()\n",
    "    word_vecs = [model.wv[word] for word in words if word in model.wv]\n",
    "    if len(word_vecs) == 0:\n",
    "        return np.zeros(vector_size)\n",
    "    return np.mean(word_vecs, axis=0)\n",
    "\n",
    "# Transformar las reseñas en vectores\n",
    "X_train_word2vec = np.array([get_average_word2vec(review, word2vec_model, 100) for review in train[\"review\"]])\n",
    "X_test_word2vec = np.array([get_average_word2vec(review, word2vec_model, 100) for review in test[\"review\"]])\n",
    "\n",
    "# Escalar los datos\n",
    "scaler = StandardScaler()\n",
    "X_train_word2vec = scaler.fit_transform(X_train_word2vec)\n",
    "X_test_word2vec = scaler.transform(X_test_word2vec)"
   ]
  },
  {
   "cell_type": "code",
   "execution_count": 103,
   "metadata": {},
   "outputs": [
    {
     "name": "stderr",
     "output_type": "stream",
     "text": [
      "c:\\Users\\nicol\\AppData\\Local\\Programs\\Python\\Python39\\lib\\site-packages\\sklearn\\linear_model\\_logistic.py:444: ConvergenceWarning: lbfgs failed to converge (status=1):\n",
      "STOP: TOTAL NO. of ITERATIONS REACHED LIMIT.\n",
      "\n",
      "Increase the number of iterations (max_iter) or scale the data as shown in:\n",
      "    https://scikit-learn.org/stable/modules/preprocessing.html\n",
      "Please also refer to the documentation for alternative solver options:\n",
      "    https://scikit-learn.org/stable/modules/linear_model.html#logistic-regression\n",
      "  n_iter_i = _check_optimize_result(\n",
      "c:\\Users\\nicol\\AppData\\Local\\Programs\\Python\\Python39\\lib\\site-packages\\sklearn\\metrics\\_classification.py:1334: UndefinedMetricWarning: Precision is ill-defined and being set to 0.0 in labels with no predicted samples. Use `zero_division` parameter to control this behavior.\n",
      "  _warn_prf(average, modifier, msg_start, len(result))\n",
      "c:\\Users\\nicol\\AppData\\Local\\Programs\\Python\\Python39\\lib\\site-packages\\sklearn\\metrics\\_classification.py:1334: UndefinedMetricWarning: Precision is ill-defined and being set to 0.0 in labels with no predicted samples. Use `zero_division` parameter to control this behavior.\n",
      "  _warn_prf(average, modifier, msg_start, len(result))\n",
      "c:\\Users\\nicol\\AppData\\Local\\Programs\\Python\\Python39\\lib\\site-packages\\sklearn\\metrics\\_classification.py:1334: UndefinedMetricWarning: Precision is ill-defined and being set to 0.0 in labels with no predicted samples. Use `zero_division` parameter to control this behavior.\n",
      "  _warn_prf(average, modifier, msg_start, len(result))\n",
      "c:\\Users\\nicol\\AppData\\Local\\Programs\\Python\\Python39\\lib\\site-packages\\sklearn\\metrics\\_classification.py:1334: UndefinedMetricWarning: Precision is ill-defined and being set to 0.0 in labels with no predicted samples. Use `zero_division` parameter to control this behavior.\n",
      "  _warn_prf(average, modifier, msg_start, len(result))\n"
     ]
    }
   ],
   "source": [
    "# Evaluación de modelos con Word2Vec\n",
    "results_word2vec = []\n",
    "\n",
    "for name, model in models.items():\n",
    "    model.fit(X_train_word2vec, y_train_discrete)\n",
    "    y_pred = model.predict(X_test_word2vec)\n",
    "    y_proba = model.predict_proba(X_test_word2vec) if hasattr(model, \"predict_proba\") else None\n",
    "\n",
    "    metrics = {\n",
    "        \"Model\": name,\n",
    "        \"Accuracy\": accuracy_score(y_test_discrete, y_pred),\n",
    "        \"Precision\": precision_score(y_test_discrete, y_pred, average=\"weighted\"),\n",
    "        \"Recall\": recall_score(y_test_discrete, y_pred, average=\"weighted\"),\n",
    "        \"F1-score\": f1_score(y_test_discrete, y_pred, average=\"weighted\"),\n",
    "        \"AUC-ROC\": roc_auc_score(y_test_discrete, y_proba, multi_class=\"ovr\") if y_proba is not None else np.nan\n",
    "    }\n",
    "\n",
    "    results_word2vec.append(metrics)\n",
    "\n",
    "# Convertir resultados en DataFrame y ordenarlos por F1-score\n",
    "df_results_word2vec = pd.DataFrame(results_word2vec).sort_values(by=\"F1-score\", ascending=False)\n"
   ]
  },
  {
   "cell_type": "code",
   "execution_count": 104,
   "metadata": {},
   "outputs": [
    {
     "name": "stdout",
     "output_type": "stream",
     "text": [
      "                 Model  Accuracy  Precision  Recall  F1-score   AUC-ROC\n",
      "2              XGBoost     0.515   0.450155   0.515  0.479028  0.587076\n",
      "0  Logistic Regression     0.500   0.399938   0.500  0.430326  0.640214\n",
      "1        Random Forest     0.470   0.374888   0.470  0.411148  0.607596\n",
      "3                  SVM     0.550   0.302500   0.550  0.390323  0.541446\n"
     ]
    }
   ],
   "source": [
    "print(df_results_word2vec)"
   ]
  },
  {
   "cell_type": "markdown",
   "metadata": {},
   "source": [
    "Los resultados obtenidos no son ideales, lo que sugiere que predecir el rating a partir de los reviews no es una tarea sencilla. Para mejorar los resultados, sería necesario agregar más variables al dataset que puedan contribuir al proceso de prediccion."
   ]
  }
 ],
 "metadata": {
  "kernelspec": {
   "display_name": "Python 3",
   "language": "python",
   "name": "python3"
  },
  "language_info": {
   "codemirror_mode": {
    "name": "ipython",
    "version": 3
   },
   "file_extension": ".py",
   "mimetype": "text/x-python",
   "name": "python",
   "nbconvert_exporter": "python",
   "pygments_lexer": "ipython3",
   "version": "3.9.5"
  }
 },
 "nbformat": 4,
 "nbformat_minor": 2
}
