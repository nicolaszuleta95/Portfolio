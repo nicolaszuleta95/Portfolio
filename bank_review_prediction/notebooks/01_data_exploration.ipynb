{
 "cells": [
  {
   "cell_type": "markdown",
   "metadata": {},
   "source": [
    "# Exploración de Datos\n",
    "\n",
    "En este notebook, exploraremos el dataset de reseñas bancarias."
   ]
  },
  {
   "cell_type": "code",
   "execution_count": 24,
   "metadata": {},
   "outputs": [],
   "source": [
    "import pandas as pd\n",
    "import matplotlib.pyplot as plt\n",
    "import seaborn as sns\n",
    "import kagglehub\n",
    "from sklearn.feature_extraction.text import TfidfVectorizer\n",
    "from scipy.stats import spearmanr\n",
    "import nltk\n",
    "from nltk.corpus import stopwords\n",
    "from nltk.tokenize import word_tokenize\n",
    "import string\n",
    "from nltk.sentiment import SentimentIntensityAnalyzer"
   ]
  },
  {
   "cell_type": "code",
   "execution_count": 3,
   "metadata": {},
   "outputs": [
    {
     "name": "stdout",
     "output_type": "stream",
     "text": [
      "Warning: Looks like you're using an outdated `kagglehub` version (installed: 0.3.7), please consider upgrading to the latest version (0.3.8).\n",
      "Path to dataset files: C:\\Users\\nicol\\.cache\\kagglehub\\datasets\\dhavalrupapara\\banks-customer-reviews-dataset\\versions\\1\n"
     ]
    }
   ],
   "source": [
    "# Download latest version\n",
    "path = kagglehub.dataset_download(\"dhavalrupapara/banks-customer-reviews-dataset\")\n",
    "\n",
    "print(\"Path to dataset files:\", path)"
   ]
  },
  {
   "cell_type": "code",
   "execution_count": 4,
   "metadata": {},
   "outputs": [
    {
     "data": {
      "text/html": [
       "<div>\n",
       "<style scoped>\n",
       "    .dataframe tbody tr th:only-of-type {\n",
       "        vertical-align: middle;\n",
       "    }\n",
       "\n",
       "    .dataframe tbody tr th {\n",
       "        vertical-align: top;\n",
       "    }\n",
       "\n",
       "    .dataframe thead th {\n",
       "        text-align: right;\n",
       "    }\n",
       "</style>\n",
       "<table border=\"1\" class=\"dataframe\">\n",
       "  <thead>\n",
       "    <tr style=\"text-align: right;\">\n",
       "      <th></th>\n",
       "      <th>author</th>\n",
       "      <th>date</th>\n",
       "      <th>address</th>\n",
       "      <th>bank</th>\n",
       "      <th>rating</th>\n",
       "      <th>review_title_by_user</th>\n",
       "      <th>review</th>\n",
       "      <th>bank_image</th>\n",
       "      <th>rating_title_by_user</th>\n",
       "      <th>useful_count</th>\n",
       "    </tr>\n",
       "  </thead>\n",
       "  <tbody>\n",
       "    <tr>\n",
       "      <th>0</th>\n",
       "      <td>AMRENDRA  T</td>\n",
       "      <td>Mar 21, 2020</td>\n",
       "      <td>New delhi</td>\n",
       "      <td>SBI</td>\n",
       "      <td>4.0</td>\n",
       "      <td>\"Best saving\"</td>\n",
       "      <td>State Bank Of India is located nearby in our a...</td>\n",
       "      <td>https://static.bankbazaar.com/images/common/ba...</td>\n",
       "      <td>Great!</td>\n",
       "      <td>133</td>\n",
       "    </tr>\n",
       "    <tr>\n",
       "      <th>1</th>\n",
       "      <td>BISHWA</td>\n",
       "      <td>Mar 20, 2020</td>\n",
       "      <td>Kolkata</td>\n",
       "      <td>SBI</td>\n",
       "      <td>5.0</td>\n",
       "      <td>\"Good service\"</td>\n",
       "      <td>I have my salary account in SBI, when I applie...</td>\n",
       "      <td>https://static.bankbazaar.com/images/common/ba...</td>\n",
       "      <td>Blown Away!</td>\n",
       "      <td>89</td>\n",
       "    </tr>\n",
       "    <tr>\n",
       "      <th>2</th>\n",
       "      <td>SANTOSH</td>\n",
       "      <td>Mar 20, 2020</td>\n",
       "      <td>Hooghly</td>\n",
       "      <td>Axis Bank</td>\n",
       "      <td>5.0</td>\n",
       "      <td>\"Excellent Service\"</td>\n",
       "      <td>I am using Axis bank saving account for the  p...</td>\n",
       "      <td>https://static.bankbazaar.com/images/common/ba...</td>\n",
       "      <td>Blown Away!</td>\n",
       "      <td>48</td>\n",
       "    </tr>\n",
       "    <tr>\n",
       "      <th>3</th>\n",
       "      <td>MAHADEV</td>\n",
       "      <td>Mar 20, 2020</td>\n",
       "      <td>Pune</td>\n",
       "      <td>HDFC Bank</td>\n",
       "      <td>5.0</td>\n",
       "      <td>\"Excellent service\"</td>\n",
       "      <td>I have my salary bank account in HDFC bank for...</td>\n",
       "      <td>https://static.bankbazaar.com/images/common/ba...</td>\n",
       "      <td>Blown Away!</td>\n",
       "      <td>52</td>\n",
       "    </tr>\n",
       "    <tr>\n",
       "      <th>4</th>\n",
       "      <td>R</td>\n",
       "      <td>Mar 20, 2020</td>\n",
       "      <td>Bangalore</td>\n",
       "      <td>review</td>\n",
       "      <td>5.0</td>\n",
       "      <td>\"Good account\"</td>\n",
       "      <td>Close to around 10 years, I am holding this Co...</td>\n",
       "      <td>https://static.bankbazaar.com/images/common/ba...</td>\n",
       "      <td>Blown Away!</td>\n",
       "      <td>22</td>\n",
       "    </tr>\n",
       "  </tbody>\n",
       "</table>\n",
       "</div>"
      ],
      "text/plain": [
       "        author          date    address       bank  rating  \\\n",
       "0  AMRENDRA  T  Mar 21, 2020  New delhi        SBI     4.0   \n",
       "1       BISHWA  Mar 20, 2020    Kolkata        SBI     5.0   \n",
       "2      SANTOSH  Mar 20, 2020    Hooghly  Axis Bank     5.0   \n",
       "3      MAHADEV  Mar 20, 2020       Pune  HDFC Bank     5.0   \n",
       "4            R  Mar 20, 2020  Bangalore     review     5.0   \n",
       "\n",
       "  review_title_by_user                                             review  \\\n",
       "0        \"Best saving\"  State Bank Of India is located nearby in our a...   \n",
       "1       \"Good service\"  I have my salary account in SBI, when I applie...   \n",
       "2  \"Excellent Service\"  I am using Axis bank saving account for the  p...   \n",
       "3  \"Excellent service\"  I have my salary bank account in HDFC bank for...   \n",
       "4       \"Good account\"  Close to around 10 years, I am holding this Co...   \n",
       "\n",
       "                                          bank_image rating_title_by_user  \\\n",
       "0  https://static.bankbazaar.com/images/common/ba...               Great!   \n",
       "1  https://static.bankbazaar.com/images/common/ba...          Blown Away!   \n",
       "2  https://static.bankbazaar.com/images/common/ba...          Blown Away!   \n",
       "3  https://static.bankbazaar.com/images/common/ba...          Blown Away!   \n",
       "4  https://static.bankbazaar.com/images/common/ba...          Blown Away!   \n",
       "\n",
       "   useful_count  \n",
       "0           133  \n",
       "1            89  \n",
       "2            48  \n",
       "3            52  \n",
       "4            22  "
      ]
     },
     "execution_count": 4,
     "metadata": {},
     "output_type": "execute_result"
    }
   ],
   "source": [
    "# Cargar el dataset en un dataframe\n",
    "df = pd.read_csv(f\"{path}\\\\bank_reviews3.csv\")\n",
    "\n",
    "# Mostrar las primeras filas del dataframe\n",
    "df.head()"
   ]
  },
  {
   "cell_type": "code",
   "execution_count": 5,
   "metadata": {},
   "outputs": [
    {
     "name": "stdout",
     "output_type": "stream",
     "text": [
      "<class 'pandas.core.frame.DataFrame'>\n",
      "RangeIndex: 1000 entries, 0 to 999\n",
      "Data columns (total 10 columns):\n",
      " #   Column                Non-Null Count  Dtype  \n",
      "---  ------                --------------  -----  \n",
      " 0   author                996 non-null    object \n",
      " 1   date                  1000 non-null   object \n",
      " 2   address               1000 non-null   object \n",
      " 3   bank                  1000 non-null   object \n",
      " 4   rating                1000 non-null   float64\n",
      " 5   review_title_by_user  1000 non-null   object \n",
      " 6   review                1000 non-null   object \n",
      " 7   bank_image            1000 non-null   object \n",
      " 8   rating_title_by_user  1000 non-null   object \n",
      " 9   useful_count          1000 non-null   int64  \n",
      "dtypes: float64(1), int64(1), object(8)\n",
      "memory usage: 78.2+ KB\n"
     ]
    }
   ],
   "source": [
    "df.info()"
   ]
  },
  {
   "cell_type": "markdown",
   "metadata": {},
   "source": [
    "## Informacion de la data\n",
    "\n",
    "| *Column Names* | *Description* |\n",
    "| --- | --- |\n",
    "| author | The user who authored the review, providing valuable insights into the reviewer's identity and perspective. |\n",
    "| date | The date when the review was submitted, offering a temporal dimension to the dataset and enabling time-based analysis. |\n",
    "| address | The geographical location from which the review was written, contributing to understanding regional trends and variations in banking experiences. |\n",
    "| bank | The name of the reviewed bank, serving as a key identifier for the financial institution being assessed. |\n",
    "| rating | The user's numerical assessment of the bank's service, indicating user satisfaction on a numerical scale. |\n",
    "| review title by user | The user-assigned title to their review, summarizing the essence of their feedback in a concise manner. |\n",
    "| review | The detailed content of the user's review about the bank, providing the primary textual data for analysis and insights. |\n",
    "| bank image | The URL pointing to the bank's logo or image relevant to the review, facilitating visual associations with the bank. |\n",
    "| rating title by user | The user-assigned title to their rating, potentially offering additional context to the rating value. |\n",
    "| useful count | The count of users who found the review helpful, reflecting the impact and usefulness of the review among other users. |"
   ]
  },
  {
   "cell_type": "code",
   "execution_count": 6,
   "metadata": {},
   "outputs": [
    {
     "data": {
      "text/plain": [
       "review                  285\n",
       "SBI                     219\n",
       "HDFC Bank               188\n",
       "Axis Bank               131\n",
       "Kotak                    80\n",
       "Canara Bank              35\n",
       "IndusInd Bank            20\n",
       "IDBI                     14\n",
       "Citibank                 14\n",
       "Punjab National Bank     14\n",
       "Name: bank, dtype: int64"
      ]
     },
     "execution_count": 6,
     "metadata": {},
     "output_type": "execute_result"
    }
   ],
   "source": [
    "df.bank.value_counts()"
   ]
  },
  {
   "cell_type": "markdown",
   "metadata": {},
   "source": [
    "## Distribución de calificaciones por rating"
   ]
  },
  {
   "cell_type": "code",
   "execution_count": 7,
   "metadata": {},
   "outputs": [
    {
     "data": {
      "image/png": "[encoded data removed]",
      "text/plain": [
       "<Figure size 432x288 with 1 Axes>"
      ]
     },
     "metadata": {
      "needs_background": "light"
     },
     "output_type": "display_data"
    }
   ],
   "source": [
    "ax = df['rating'].value_counts().plot(kind='bar')\n",
    "ax.set_title('Distribución de Calificaciones')\n",
    "ax.set_xlabel('Calificación')\n",
    "ax.set_ylabel('Frecuencia')\n",
    "plt.show()"
   ]
  },
  {
   "cell_type": "markdown",
   "metadata": {},
   "source": [
    "Existe un fuerte sesgo hacia las calificaciones altas."
   ]
  },
  {
   "cell_type": "markdown",
   "metadata": {},
   "source": [
    "Las calificaciones menores a 3.0 son mucho menos frecuentes, lo que podría generar problemas al entrenar un modelo de Machine Learning, ya que tendrá menos ejemplos de calificaciones bajas para aprender."
   ]
  },
  {
   "cell_type": "markdown",
   "metadata": {},
   "source": [
    "- Si el modelo aprende con estos datos tal cual, podría sesgarse hacia predecir calificaciones altas con más frecuencia.\n",
    "- Podríamos necesitar técnicas de balanceo de datos, como oversampling de las clases minoritarias o undersampling de las clases mayoritarias.\n",
    "- También podríamos agrupar las calificaciones en categorías más amplias (por ejemplo, \"Baja\", \"Media\" y \"Alta\") para facilitar el aprendizaje del modelo."
   ]
  },
  {
   "cell_type": "markdown",
   "metadata": {},
   "source": [
    "Las decisiones frente a esto las tomaremos en la etapa de procesamiento de datos."
   ]
  },
  {
   "cell_type": "markdown",
   "metadata": {},
   "source": [
    "## Longitud del texto en las reseñas"
   ]
  },
  {
   "cell_type": "code",
   "execution_count": 8,
   "metadata": {},
   "outputs": [
    {
     "data": {
      "text/plain": [
       "count    1000.000000\n",
       "mean       58.765000\n",
       "std        11.722593\n",
       "min        40.000000\n",
       "25%        51.000000\n",
       "50%        57.000000\n",
       "75%        63.000000\n",
       "max       181.000000\n",
       "Name: review_length, dtype: float64"
      ]
     },
     "execution_count": 8,
     "metadata": {},
     "output_type": "execute_result"
    }
   ],
   "source": [
    "df['review_length'] = df['review'].apply(lambda x: len(str(x).split()))\n",
    "df['review_length'].describe()"
   ]
  },
  {
   "cell_type": "code",
   "execution_count": 9,
   "metadata": {},
   "outputs": [
    {
     "name": "stdout",
     "output_type": "stream",
     "text": [
      "Q1: 51.0\n",
      "Q3: 63.0\n",
      "IQR: 12.0\n"
     ]
    }
   ],
   "source": [
    "# Calcular el IQR de la longitud de las reseñas\n",
    "Q1 = df['review_length'].quantile(0.25)\n",
    "Q3 = df['review_length'].quantile(0.75)\n",
    "IQR = Q3 - Q1\n",
    "\n",
    "print(f\"Q1: {Q1}\")\n",
    "print(f\"Q3: {Q3}\")\n",
    "print(f\"IQR: {IQR}\")"
   ]
  },
  {
   "cell_type": "markdown",
   "metadata": {},
   "source": [
    "El rango intercuartil (IQR) está entre 51 y 63 palabras, lo que muestra que el 50% de las reseñas están dentro de un margen relativamente estrecho."
   ]
  },
  {
   "cell_type": "markdown",
   "metadata": {},
   "source": [
    "- Las reseñas muy cortas pueden ser ambiguas y no proporcionar suficiente información útil para el modelo. Podríamos considerar eliminarlas o tratarlas con técnicas específicas.\n",
    "- Las reseñas muy largas pueden generar ruido, ya que podrían incluir información irrelevante o divagar demasiado.\n",
    "- Distribución desigual: Si la mayoría de las reseñas tienen entre 50 y 60 palabras, el modelo podría tener dificultades para interpretar aquellas que son mucho más cortas o largas."
   ]
  },
  {
   "cell_type": "markdown",
   "metadata": {},
   "source": [
    "## Correlación entre el texto de la reseña y rating asignado"
   ]
  },
  {
   "cell_type": "code",
   "execution_count": 10,
   "metadata": {},
   "outputs": [],
   "source": [
    "# Vectorizar con TF-IDF\n",
    "vectorizer = TfidfVectorizer(stop_words='english', max_features=500)\n",
    "X_tfidf = vectorizer.fit_transform(df['review']).toarray()"
   ]
  },
  {
   "cell_type": "code",
   "execution_count": 11,
   "metadata": {},
   "outputs": [],
   "source": [
    "y_rating = df['rating']"
   ]
  },
  {
   "cell_type": "code",
   "execution_count": 12,
   "metadata": {},
   "outputs": [],
   "source": [
    "# Calcular la correlación entre cada palabra TF-IDF y la calificación\n",
    "correlations = [spearmanr(X_tfidf[:, i], y_rating)[0] for i in range(X_tfidf.shape[1])]"
   ]
  },
  {
   "cell_type": "code",
   "execution_count": 13,
   "metadata": {},
   "outputs": [],
   "source": [
    "# Crear un DataFrame con los resultados\n",
    "df_corr = pd.DataFrame({'word': vectorizer.get_feature_names_out(), 'correlation': correlations})\n"
   ]
  },
  {
   "cell_type": "code",
   "execution_count": 14,
   "metadata": {},
   "outputs": [
    {
     "name": "stdout",
     "output_type": "stream",
     "text": [
      "        word  correlation\n",
      "233  improve    -0.157192\n",
      "398   salary     0.150470\n",
      "301      net     0.139725\n",
      "72   average    -0.118854\n",
      "336   people    -0.118438\n",
      "267      lot    -0.114513\n",
      "79   banking     0.113360\n",
      "99      care    -0.107979\n",
      "279     mark    -0.106816\n",
      "207     good     0.104807\n"
     ]
    }
   ],
   "source": [
    "# Ordenar por correlación absoluta (más relevantes)\n",
    "df_corr = df_corr.reindex(df_corr.correlation.abs().sort_values(ascending=False).index)\n",
    "print(df_corr.head(10))"
   ]
  },
  {
   "cell_type": "code",
   "execution_count": 15,
   "metadata": {},
   "outputs": [
    {
     "data": {
      "image/png": "[encoded data removed]",
      "text/plain": [
       "<Figure size 720x432 with 1 Axes>"
      ]
     },
     "metadata": {
      "needs_background": "light"
     },
     "output_type": "display_data"
    }
   ],
   "source": [
    "#grafica de correlacion\n",
    "plt.figure(figsize=(10, 6))\n",
    "sns.histplot(df_corr['correlation'], bins=20)\n",
    "plt.title('Distribución de Correlaciones')\n",
    "plt.xlabel('Correlación')\n",
    "plt.ylabel('Frecuencia')\n",
    "plt.show()\n"
   ]
  },
  {
   "cell_type": "markdown",
   "metadata": {},
   "source": [
    "La mayoría de las palabras tienen valores de correlación cercanos a 0, significa que el texto por sí solo no es un buen predictor de la calificación. Esto puede deberse a que la calificación depende del contexto completo y no solo de palabras individuales."
   ]
  },
  {
   "cell_type": "markdown",
   "metadata": {},
   "source": [
    "## Evolución Promedio de la Calificación"
   ]
  },
  {
   "cell_type": "code",
   "execution_count": 16,
   "metadata": {},
   "outputs": [
    {
     "name": "stdout",
     "output_type": "stream",
     "text": [
      "Dec 01, 2019\n",
      "Nov 30, 2019\n"
     ]
    }
   ],
   "source": [
    "# Ver cuales son las fechas minimas y maximas\n",
    "print(df['date'].min())\n",
    "print(df['date'].max())"
   ]
  },
  {
   "cell_type": "code",
   "execution_count": 17,
   "metadata": {},
   "outputs": [],
   "source": [
    "df['date'] = pd.to_datetime(df['date'])\n",
    "df_grouped = df.groupby(df['date'].dt.to_period(\"M\"))['rating'].mean()"
   ]
  },
  {
   "cell_type": "code",
   "execution_count": 18,
   "metadata": {},
   "outputs": [
    {
     "data": {
      "image/png": "[encoded data removed]",
      "text/plain": [
       "<Figure size 864x360 with 1 Axes>"
      ]
     },
     "metadata": {
      "needs_background": "light"
     },
     "output_type": "display_data"
    }
   ],
   "source": [
    "plt.figure(figsize=(12, 5))\n",
    "df_grouped.plot(marker='o', linestyle='-')\n",
    "plt.title(\"Evolución de la Calificación Promedio a lo Largo del Tiempo\")\n",
    "plt.xlabel(\"Fecha\")\n",
    "plt.ylabel(\"Calificación Promedio\")\n",
    "plt.xticks(rotation=45)\n",
    "plt.grid()\n",
    "plt.show()"
   ]
  },
  {
   "cell_type": "markdown",
   "metadata": {},
   "source": [
    "Hay una tendencia creciente en los reviews de los bancos"
   ]
  },
  {
   "cell_type": "markdown",
   "metadata": {},
   "source": [
    "## Distribución de Calificaciones por Banco"
   ]
  },
  {
   "cell_type": "code",
   "execution_count": 19,
   "metadata": {},
   "outputs": [
    {
     "data": {
      "image/png": "[encoded data removed]",
      "text/plain": [
       "<Figure size 864x360 with 1 Axes>"
      ]
     },
     "metadata": {
      "needs_background": "light"
     },
     "output_type": "display_data"
    }
   ],
   "source": [
    "# Definir calificaciones bajas como 1, 2 y 3 estrellas\n",
    "low_ratings = df[df['rating'] <= 3]\n",
    "\n",
    "# Contar cuántas calificaciones bajas tiene cada banco\n",
    "low_ratings_count = low_ratings['bank'].value_counts()\n",
    "\n",
    "# Graficar\n",
    "plt.figure(figsize=(12, 5))\n",
    "sns.barplot(x=low_ratings_count.index, y=low_ratings_count.values, palette=\"Reds_r\")\n",
    "plt.xticks(rotation=90)\n",
    "plt.title(\"Cantidad de Calificaciones Bajas por Banco\")\n",
    "plt.xlabel(\"Banco\")\n",
    "plt.ylabel(\"Número de Calificaciones Bajas\")\n",
    "plt.show()"
   ]
  },
  {
   "cell_type": "code",
   "execution_count": 20,
   "metadata": {},
   "outputs": [
    {
     "data": {
      "image/png": "[encoded data removed]",
      "text/plain": [
       "<Figure size 864x360 with 1 Axes>"
      ]
     },
     "metadata": {
      "needs_background": "light"
     },
     "output_type": "display_data"
    }
   ],
   "source": [
    "# Contar total de calificaciones por banco\n",
    "total_ratings_count = df['bank'].value_counts()\n",
    "\n",
    "# Calcular porcentaje de calificaciones bajas\n",
    "low_ratings_percentage = (low_ratings_count / total_ratings_count) * 100\n",
    "\n",
    "# Graficar\n",
    "plt.figure(figsize=(12, 5))\n",
    "sns.barplot(x=low_ratings_percentage.index, y=low_ratings_percentage.values)\n",
    "plt.xticks(rotation=90)\n",
    "plt.title(\"Porcentaje de Calificaciones Bajas por Banco\")\n",
    "plt.xlabel(\"Banco\")\n",
    "plt.ylabel(\"Porcentaje de Calificaciones Bajas (%)\")\n",
    "plt.show()"
   ]
  },
  {
   "cell_type": "markdown",
   "metadata": {},
   "source": [
    "- Canara Bank tiene el mayor porcentaje de calificaciones bajas (~16-17%), lo que sugiere una mayor insatisfacción entre sus clientes en comparación con otros bancos.\n",
    "- IndusInd Bank e IDBI también presentan porcentajes altos (~14-15%), lo que indica que estos bancos tienen un volumen considerable de clientes descontentos.\n",
    "- Punjab National Bank tiene el menor porcentaje de calificaciones bajas (~9%), lo que sugiere una mejor percepción general del servicio.\n",
    "- El banco etiquetado como \"review\" tiene una alta proporción de calificaciones bajas (~14-15%), lo que podría ser un error en la categorización de los datos (tal vez representa un conjunto mixto de reseñas no asignadas a un banco específico).\n",
    "- HDFC Bank y Kotak tienen valores moderados (~10-12%), lo que indica que aunque tienen reseñas negativas, su impacto relativo es menor."
   ]
  },
  {
   "cell_type": "markdown",
   "metadata": {},
   "source": [
    "## Relación entre Rating y Sentimiento del Texto"
   ]
  },
  {
   "cell_type": "markdown",
   "metadata": {},
   "source": [
    "Limpiamos el texto"
   ]
  },
  {
   "cell_type": "code",
   "execution_count": 21,
   "metadata": {},
   "outputs": [
    {
     "name": "stderr",
     "output_type": "stream",
     "text": [
      "[nltk_data] Downloading package punkt to\n",
      "[nltk_data]     C:\\Users\\nicol\\AppData\\Roaming\\nltk_data...\n",
      "[nltk_data]   Package punkt is already up-to-date!\n",
      "[nltk_data] Downloading package stopwords to\n",
      "[nltk_data]     C:\\Users\\nicol\\AppData\\Roaming\\nltk_data...\n",
      "[nltk_data]   Unzipping corpora\\stopwords.zip.\n"
     ]
    }
   ],
   "source": [
    "nltk.download('punkt')\n",
    "nltk.download('stopwords')\n",
    "\n",
    "def preprocess_text(text):\n",
    "    text = text.lower()  # Minúsculas\n",
    "    text = text.translate(str.maketrans('', '', string.punctuation))  # Quitar puntuación\n",
    "    tokens = word_tokenize(text)  # Tokenizar\n",
    "    tokens = [word for word in tokens if word not in stopwords.words('english')]  # Eliminar stopwords\n",
    "    return \" \".join(tokens)\n",
    "\n",
    "df['clean_review'] = df['review'].apply(preprocess_text)"
   ]
  },
  {
   "cell_type": "code",
   "execution_count": 22,
   "metadata": {},
   "outputs": [
    {
     "data": {
      "text/plain": [
       "0    state bank india located nearby area open savi...\n",
       "1    salary account sbi applied card got statement ...\n",
       "2    using axis bank saving account past 3years tra...\n",
       "3    salary bank account hdfc bank many years got b...\n",
       "4    close around 10 years holding corporation bank...\n",
       "Name: clean_review, dtype: object"
      ]
     },
     "execution_count": 22,
     "metadata": {},
     "output_type": "execute_result"
    }
   ],
   "source": [
    "df['clean_review'].head()"
   ]
  },
  {
   "cell_type": "markdown",
   "metadata": {},
   "source": [
    "VADER es un módulo de la biblioteca NLTK que analiza el sentimiento de un texto. VADER significa \"Valence Aware Dictionary for Sentiment Reasoning\". \n",
    "\n",
    "¿Qué hace VADER? \n",
    "- Analiza el tono emocional de un texto\n",
    "- Asigna puntuaciones de sentimiento a las palabras\n",
    "- Calcula la puntuación general del sentimiento del texto\n",
    "\n",
    "\n",
    "¿Cómo funciona VADER? \n",
    "- Divide el texto en palabras individuales\n",
    "- Califica cada palabra como positiva o negativa\n",
    "- Calcula la puntuación general del sentimiento del texto\n",
    "\n",
    "\n",
    "¿Para qué se usa VADER?\n",
    "- Para analizar el sentimiento de textos breves y de redes sociales \n",
    "- Para analizar comentarios o textos de las redes sociales \n",
    "\n",
    "\n",
    "¿Qué métricas usa VADER?\n",
    "- Positivo (pos): Proporción de palabras positivas en la reseña.\n",
    "- Negativo (neg): Proporción de palabras negativas en la reseña.\n",
    "- Neutral (neu): Proporción de palabras neutrales en la reseña.\n",
    "- Score compuesto (compound): Un valor entre -1 (muy negativo) y 1 (muy positivo)."
   ]
  },
  {
   "cell_type": "markdown",
   "metadata": {},
   "source": [
    "Interpretación del compound score:\n",
    "\n",
    "- Negativo: compound < -0.05\n",
    "- Neutral: -0.05 <= compound <= 0.05\n",
    "- Positivo: compound > 0.05"
   ]
  },
  {
   "cell_type": "code",
   "execution_count": 25,
   "metadata": {},
   "outputs": [
    {
     "name": "stderr",
     "output_type": "stream",
     "text": [
      "[nltk_data] Downloading package vader_lexicon to\n",
      "[nltk_data]     C:\\Users\\nicol\\AppData\\Roaming\\nltk_data...\n",
      "[nltk_data]   Package vader_lexicon is already up-to-date!\n"
     ]
    }
   ],
   "source": [
    "nltk.download('vader_lexicon')\n",
    "\n",
    "sia = SentimentIntensityAnalyzer()\n",
    "\n",
    "# Aplicar análisis de sentimiento\n",
    "df['sentiment'] = df['review'].apply(lambda x: sia.polarity_scores(str(x))['compound'])\n"
   ]
  },
  {
   "cell_type": "code",
   "execution_count": 27,
   "metadata": {},
   "outputs": [
    {
     "data": {
      "text/plain": [
       "count    1000.000000\n",
       "mean        0.353760\n",
       "std         0.477309\n",
       "min        -0.929900\n",
       "25%         0.000000\n",
       "50%         0.476050\n",
       "75%         0.750100\n",
       "max         0.980200\n",
       "Name: sentiment, dtype: float64"
      ]
     },
     "execution_count": 27,
     "metadata": {},
     "output_type": "execute_result"
    }
   ],
   "source": [
    "df['sentiment'].describe()"
   ]
  },
  {
   "cell_type": "markdown",
   "metadata": {},
   "source": [
    "Podemos ver que en promedio, las reseñas tienden a ser ligeramente positivas. "
   ]
  },
  {
   "cell_type": "markdown",
   "metadata": {},
   "source": [
    "Ahora veamos la relacion entre el rating y el puntaje del sentimiento."
   ]
  },
  {
   "cell_type": "code",
   "execution_count": 28,
   "metadata": {},
   "outputs": [
    {
     "data": {
      "image/png": "[encoded data removed]",
      "text/plain": [
       "<Figure size 432x288 with 1 Axes>"
      ]
     },
     "metadata": {
      "needs_background": "light"
     },
     "output_type": "display_data"
    }
   ],
   "source": [
    "sns.scatterplot(x=df['rating'], y=df['sentiment'])\n",
    "plt.title(\"Relación entre Rating y Sentimiento\")\n",
    "plt.xlabel(\"Calificación del Usuario\")\n",
    "plt.ylabel(\"Puntaje de Sentimiento\")\n",
    "plt.show()"
   ]
  },
  {
   "cell_type": "code",
   "execution_count": 29,
   "metadata": {},
   "outputs": [
    {
     "data": {
      "text/html": [
       "<div>\n",
       "<style scoped>\n",
       "    .dataframe tbody tr th:only-of-type {\n",
       "        vertical-align: middle;\n",
       "    }\n",
       "\n",
       "    .dataframe tbody tr th {\n",
       "        vertical-align: top;\n",
       "    }\n",
       "\n",
       "    .dataframe thead th {\n",
       "        text-align: right;\n",
       "    }\n",
       "</style>\n",
       "<table border=\"1\" class=\"dataframe\">\n",
       "  <thead>\n",
       "    <tr style=\"text-align: right;\">\n",
       "      <th></th>\n",
       "      <th>rating</th>\n",
       "      <th>sentiment</th>\n",
       "    </tr>\n",
       "  </thead>\n",
       "  <tbody>\n",
       "    <tr>\n",
       "      <th>rating</th>\n",
       "      <td>1.000000</td>\n",
       "      <td>0.255838</td>\n",
       "    </tr>\n",
       "    <tr>\n",
       "      <th>sentiment</th>\n",
       "      <td>0.255838</td>\n",
       "      <td>1.000000</td>\n",
       "    </tr>\n",
       "  </tbody>\n",
       "</table>\n",
       "</div>"
      ],
      "text/plain": [
       "             rating  sentiment\n",
       "rating     1.000000   0.255838\n",
       "sentiment  0.255838   1.000000"
      ]
     },
     "execution_count": 29,
     "metadata": {},
     "output_type": "execute_result"
    }
   ],
   "source": [
    "df[['rating', 'sentiment']].corr()\n"
   ]
  },
  {
   "cell_type": "code",
   "execution_count": 30,
   "metadata": {},
   "outputs": [
    {
     "data": {
      "image/png": "[encoded data removed]",
      "text/plain": [
       "<Figure size 432x288 with 1 Axes>"
      ]
     },
     "metadata": {
      "needs_background": "light"
     },
     "output_type": "display_data"
    }
   ],
   "source": [
    "sns.regplot(x=df['rating'], y=df['sentiment'], scatter_kws={'alpha':0.5})\n",
    "plt.title(\"Regresión entre Rating y Sentimiento\")\n",
    "plt.xlabel(\"Calificación del Usuario\")\n",
    "plt.ylabel(\"Puntaje de Sentimiento\")\n",
    "plt.show()"
   ]
  },
  {
   "cell_type": "markdown",
   "metadata": {},
   "source": [
    "Podemos ver que existe una relación positiva entre sentimiento y rating, pero es débil y con mucha variabilidad. Esto sugiere que el análisis de sentimientos no es suficiente para predecir el rating"
   ]
  }
 ],
 "metadata": {
  "kernelspec": {
   "display_name": "Python 3",
   "language": "python",
   "name": "python3"
  },
  "language_info": {
   "codemirror_mode": {
    "name": "ipython",
    "version": 3
   },
   "file_extension": ".py",
   "mimetype": "text/x-python",
   "name": "python",
   "nbconvert_exporter": "python",
   "pygments_lexer": "ipython3",
   "version": "3.9.5"
  }
 },
 "nbformat": 4,
 "nbformat_minor": 2
}
