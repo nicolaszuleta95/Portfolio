{
 "cells": [
  {
   "cell_type": "markdown",
   "metadata": {},
   "source": [
    "# Librerias"
   ]
  },
  {
   "cell_type": "code",
   "execution_count": 1,
   "metadata": {},
   "outputs": [],
   "source": [
    "import time\n",
    "from sklearn.metrics import (\n",
    "    recall_score,\n",
    "    precision_score,\n",
    "    roc_auc_score,\n",
    "    f1_score,\n",
    ")\n",
    "from sklearn.pipeline import Pipeline\n",
    "from sklearn.model_selection import train_test_split\n",
    "from sklearn.preprocessing import StandardScaler\n",
    "from sklearn.compose import ColumnTransformer\n",
    "from sklearn.preprocessing import OneHotEncoder\n",
    "from sklearn.linear_model import LogisticRegression\n",
    "from sklearn.ensemble import RandomForestClassifier\n",
    "from sklearn.svm import SVC\n",
    "\n",
    "from imblearn.over_sampling import SMOTE\n",
    "\n",
    "import pandas as pd\n",
    "import matplotlib.pyplot as plt\n",
    "import numpy as np"
   ]
  },
  {
   "cell_type": "markdown",
   "metadata": {},
   "source": [
    "# Cargar y Explorar el Dataset"
   ]
  },
  {
   "cell_type": "code",
   "execution_count": 2,
   "metadata": {},
   "outputs": [],
   "source": [
    "df = pd.read_csv('..\\\\data\\\\raw\\\\Atletas_y_ParaAtletas_apoyados_20250203.csv')"
   ]
  },
  {
   "cell_type": "code",
   "execution_count": 3,
   "metadata": {},
   "outputs": [
    {
     "data": {
      "text/html": [
       "<div>\n",
       "<style scoped>\n",
       "    .dataframe tbody tr th:only-of-type {\n",
       "        vertical-align: middle;\n",
       "    }\n",
       "\n",
       "    .dataframe tbody tr th {\n",
       "        vertical-align: top;\n",
       "    }\n",
       "\n",
       "    .dataframe thead th {\n",
       "        text-align: right;\n",
       "    }\n",
       "</style>\n",
       "<table border=\"1\" class=\"dataframe\">\n",
       "  <thead>\n",
       "    <tr style=\"text-align: right;\">\n",
       "      <th></th>\n",
       "      <th>ID</th>\n",
       "      <th>Tipo_Atleta</th>\n",
       "      <th>sexo</th>\n",
       "      <th>Deporte</th>\n",
       "      <th>Rango_Edad</th>\n",
       "      <th>Organización_deportiva</th>\n",
       "      <th>Subregión_nacimiento</th>\n",
       "      <th>Municipio_nacimiento</th>\n",
       "      <th>Año</th>\n",
       "      <th>Mes</th>\n",
       "      <th>Permanencia</th>\n",
       "    </tr>\n",
       "  </thead>\n",
       "  <tbody>\n",
       "    <tr>\n",
       "      <th>0</th>\n",
       "      <td>129719</td>\n",
       "      <td>Atletas convencionales</td>\n",
       "      <td>Hombre</td>\n",
       "      <td>Esquí Nautico</td>\n",
       "      <td>2014-10-01T00:00:00.000</td>\n",
       "      <td>Esqui Nautico</td>\n",
       "      <td>Valle de Aburrá</td>\n",
       "      <td>Medellín</td>\n",
       "      <td>2021</td>\n",
       "      <td>1</td>\n",
       "      <td>Activo</td>\n",
       "    </tr>\n",
       "    <tr>\n",
       "      <th>1</th>\n",
       "      <td>129719</td>\n",
       "      <td>Atletas convencionales</td>\n",
       "      <td>Hombre</td>\n",
       "      <td>Esquí Nautico</td>\n",
       "      <td>2014-10-01T00:00:00.000</td>\n",
       "      <td>Esqui Nautico</td>\n",
       "      <td>Valle de Aburrá</td>\n",
       "      <td>Medellín</td>\n",
       "      <td>2021</td>\n",
       "      <td>10</td>\n",
       "      <td>Activo</td>\n",
       "    </tr>\n",
       "    <tr>\n",
       "      <th>2</th>\n",
       "      <td>129719</td>\n",
       "      <td>Atletas convencionales</td>\n",
       "      <td>Hombre</td>\n",
       "      <td>Esquí Nautico</td>\n",
       "      <td>2014-10-01T00:00:00.000</td>\n",
       "      <td>Esqui Nautico</td>\n",
       "      <td>Valle de Aburrá</td>\n",
       "      <td>Medellín</td>\n",
       "      <td>2021</td>\n",
       "      <td>11</td>\n",
       "      <td>Activo</td>\n",
       "    </tr>\n",
       "    <tr>\n",
       "      <th>3</th>\n",
       "      <td>129719</td>\n",
       "      <td>Atletas convencionales</td>\n",
       "      <td>Hombre</td>\n",
       "      <td>Esquí Nautico</td>\n",
       "      <td>2014-10-01T00:00:00.000</td>\n",
       "      <td>Esqui Nautico</td>\n",
       "      <td>Valle de Aburrá</td>\n",
       "      <td>Medellín</td>\n",
       "      <td>2021</td>\n",
       "      <td>12</td>\n",
       "      <td>Activo</td>\n",
       "    </tr>\n",
       "    <tr>\n",
       "      <th>4</th>\n",
       "      <td>129719</td>\n",
       "      <td>Atletas convencionales</td>\n",
       "      <td>Hombre</td>\n",
       "      <td>Esquí Nautico</td>\n",
       "      <td>2014-10-01T00:00:00.000</td>\n",
       "      <td>Esqui Nautico</td>\n",
       "      <td>Valle de Aburrá</td>\n",
       "      <td>Medellín</td>\n",
       "      <td>2021</td>\n",
       "      <td>2</td>\n",
       "      <td>Activo</td>\n",
       "    </tr>\n",
       "  </tbody>\n",
       "</table>\n",
       "</div>"
      ],
      "text/plain": [
       "       ID             Tipo_Atleta    sexo        Deporte  \\\n",
       "0  129719  Atletas convencionales  Hombre  Esquí Nautico   \n",
       "1  129719  Atletas convencionales  Hombre  Esquí Nautico   \n",
       "2  129719  Atletas convencionales  Hombre  Esquí Nautico   \n",
       "3  129719  Atletas convencionales  Hombre  Esquí Nautico   \n",
       "4  129719  Atletas convencionales  Hombre  Esquí Nautico   \n",
       "\n",
       "                Rango_Edad Organización_deportiva Subregión_nacimiento  \\\n",
       "0  2014-10-01T00:00:00.000          Esqui Nautico      Valle de Aburrá   \n",
       "1  2014-10-01T00:00:00.000          Esqui Nautico      Valle de Aburrá   \n",
       "2  2014-10-01T00:00:00.000          Esqui Nautico      Valle de Aburrá   \n",
       "3  2014-10-01T00:00:00.000          Esqui Nautico      Valle de Aburrá   \n",
       "4  2014-10-01T00:00:00.000          Esqui Nautico      Valle de Aburrá   \n",
       "\n",
       "  Municipio_nacimiento   Año  Mes Permanencia  \n",
       "0             Medellín  2021    1      Activo  \n",
       "1             Medellín  2021   10      Activo  \n",
       "2             Medellín  2021   11      Activo  \n",
       "3             Medellín  2021   12      Activo  \n",
       "4             Medellín  2021    2      Activo  "
      ]
     },
     "execution_count": 3,
     "metadata": {},
     "output_type": "execute_result"
    }
   ],
   "source": [
    "df.head()"
   ]
  },
  {
   "cell_type": "code",
   "execution_count": 4,
   "metadata": {},
   "outputs": [
    {
     "name": "stdout",
     "output_type": "stream",
     "text": [
      "<class 'pandas.core.frame.DataFrame'>\n",
      "RangeIndex: 60000 entries, 0 to 59999\n",
      "Data columns (total 11 columns):\n",
      " #   Column                  Non-Null Count  Dtype \n",
      "---  ------                  --------------  ----- \n",
      " 0   ID                      60000 non-null  int64 \n",
      " 1   Tipo_Atleta             60000 non-null  object\n",
      " 2   sexo                    60000 non-null  object\n",
      " 3   Deporte                 60000 non-null  object\n",
      " 4   Rango_Edad              60000 non-null  object\n",
      " 5   Organización_deportiva  60000 non-null  object\n",
      " 6   Subregión_nacimiento    60000 non-null  object\n",
      " 7   Municipio_nacimiento    60000 non-null  object\n",
      " 8   Año                     60000 non-null  int64 \n",
      " 9   Mes                     60000 non-null  int64 \n",
      " 10  Permanencia             60000 non-null  object\n",
      "dtypes: int64(3), object(8)\n",
      "memory usage: 5.0+ MB\n"
     ]
    }
   ],
   "source": [
    "df.info()"
   ]
  },
  {
   "cell_type": "code",
   "execution_count": 5,
   "metadata": {},
   "outputs": [
    {
     "data": {
      "text/html": [
       "<div>\n",
       "<style scoped>\n",
       "    .dataframe tbody tr th:only-of-type {\n",
       "        vertical-align: middle;\n",
       "    }\n",
       "\n",
       "    .dataframe tbody tr th {\n",
       "        vertical-align: top;\n",
       "    }\n",
       "\n",
       "    .dataframe thead th {\n",
       "        text-align: right;\n",
       "    }\n",
       "</style>\n",
       "<table border=\"1\" class=\"dataframe\">\n",
       "  <thead>\n",
       "    <tr style=\"text-align: right;\">\n",
       "      <th></th>\n",
       "      <th>ID</th>\n",
       "      <th>Tipo_Atleta</th>\n",
       "      <th>sexo</th>\n",
       "      <th>Deporte</th>\n",
       "      <th>Rango_Edad</th>\n",
       "      <th>Organización_deportiva</th>\n",
       "      <th>Subregión_nacimiento</th>\n",
       "      <th>Municipio_nacimiento</th>\n",
       "      <th>Año</th>\n",
       "      <th>Mes</th>\n",
       "      <th>Permanencia</th>\n",
       "    </tr>\n",
       "  </thead>\n",
       "  <tbody>\n",
       "    <tr>\n",
       "      <th>count</th>\n",
       "      <td>6.000000e+04</td>\n",
       "      <td>60000</td>\n",
       "      <td>60000</td>\n",
       "      <td>60000</td>\n",
       "      <td>60000</td>\n",
       "      <td>60000</td>\n",
       "      <td>60000</td>\n",
       "      <td>60000</td>\n",
       "      <td>60000.000000</td>\n",
       "      <td>60000.000000</td>\n",
       "      <td>60000</td>\n",
       "    </tr>\n",
       "    <tr>\n",
       "      <th>unique</th>\n",
       "      <td>NaN</td>\n",
       "      <td>2</td>\n",
       "      <td>2</td>\n",
       "      <td>74</td>\n",
       "      <td>14</td>\n",
       "      <td>47</td>\n",
       "      <td>10</td>\n",
       "      <td>96</td>\n",
       "      <td>NaN</td>\n",
       "      <td>NaN</td>\n",
       "      <td>2</td>\n",
       "    </tr>\n",
       "    <tr>\n",
       "      <th>top</th>\n",
       "      <td>NaN</td>\n",
       "      <td>Atletas convencionales</td>\n",
       "      <td>Hombre</td>\n",
       "      <td>Atletismo</td>\n",
       "      <td>20-24</td>\n",
       "      <td>Liga de Atletismo de Antioquia</td>\n",
       "      <td>Valle de Aburrá</td>\n",
       "      <td>Medellín</td>\n",
       "      <td>NaN</td>\n",
       "      <td>NaN</td>\n",
       "      <td>Activo</td>\n",
       "    </tr>\n",
       "    <tr>\n",
       "      <th>freq</th>\n",
       "      <td>NaN</td>\n",
       "      <td>47951</td>\n",
       "      <td>35768</td>\n",
       "      <td>4047</td>\n",
       "      <td>20973</td>\n",
       "      <td>4047</td>\n",
       "      <td>33761</td>\n",
       "      <td>27875</td>\n",
       "      <td>NaN</td>\n",
       "      <td>NaN</td>\n",
       "      <td>53815</td>\n",
       "    </tr>\n",
       "    <tr>\n",
       "      <th>mean</th>\n",
       "      <td>5.295777e+05</td>\n",
       "      <td>NaN</td>\n",
       "      <td>NaN</td>\n",
       "      <td>NaN</td>\n",
       "      <td>NaN</td>\n",
       "      <td>NaN</td>\n",
       "      <td>NaN</td>\n",
       "      <td>NaN</td>\n",
       "      <td>2021.500000</td>\n",
       "      <td>6.492967</td>\n",
       "      <td>NaN</td>\n",
       "    </tr>\n",
       "    <tr>\n",
       "      <th>std</th>\n",
       "      <td>5.662602e+05</td>\n",
       "      <td>NaN</td>\n",
       "      <td>NaN</td>\n",
       "      <td>NaN</td>\n",
       "      <td>NaN</td>\n",
       "      <td>NaN</td>\n",
       "      <td>NaN</td>\n",
       "      <td>NaN</td>\n",
       "      <td>0.500004</td>\n",
       "      <td>3.392857</td>\n",
       "      <td>NaN</td>\n",
       "    </tr>\n",
       "    <tr>\n",
       "      <th>min</th>\n",
       "      <td>1.100000e+01</td>\n",
       "      <td>NaN</td>\n",
       "      <td>NaN</td>\n",
       "      <td>NaN</td>\n",
       "      <td>NaN</td>\n",
       "      <td>NaN</td>\n",
       "      <td>NaN</td>\n",
       "      <td>NaN</td>\n",
       "      <td>2021.000000</td>\n",
       "      <td>1.000000</td>\n",
       "      <td>NaN</td>\n",
       "    </tr>\n",
       "    <tr>\n",
       "      <th>25%</th>\n",
       "      <td>1.297670e+05</td>\n",
       "      <td>NaN</td>\n",
       "      <td>NaN</td>\n",
       "      <td>NaN</td>\n",
       "      <td>NaN</td>\n",
       "      <td>NaN</td>\n",
       "      <td>NaN</td>\n",
       "      <td>NaN</td>\n",
       "      <td>2021.000000</td>\n",
       "      <td>4.000000</td>\n",
       "      <td>NaN</td>\n",
       "    </tr>\n",
       "    <tr>\n",
       "      <th>50%</th>\n",
       "      <td>1.303400e+05</td>\n",
       "      <td>NaN</td>\n",
       "      <td>NaN</td>\n",
       "      <td>NaN</td>\n",
       "      <td>NaN</td>\n",
       "      <td>NaN</td>\n",
       "      <td>NaN</td>\n",
       "      <td>NaN</td>\n",
       "      <td>2021.500000</td>\n",
       "      <td>7.000000</td>\n",
       "      <td>NaN</td>\n",
       "    </tr>\n",
       "    <tr>\n",
       "      <th>75%</th>\n",
       "      <td>1.303390e+06</td>\n",
       "      <td>NaN</td>\n",
       "      <td>NaN</td>\n",
       "      <td>NaN</td>\n",
       "      <td>NaN</td>\n",
       "      <td>NaN</td>\n",
       "      <td>NaN</td>\n",
       "      <td>NaN</td>\n",
       "      <td>2022.000000</td>\n",
       "      <td>9.000000</td>\n",
       "      <td>NaN</td>\n",
       "    </tr>\n",
       "    <tr>\n",
       "      <th>max</th>\n",
       "      <td>1.645738e+06</td>\n",
       "      <td>NaN</td>\n",
       "      <td>NaN</td>\n",
       "      <td>NaN</td>\n",
       "      <td>NaN</td>\n",
       "      <td>NaN</td>\n",
       "      <td>NaN</td>\n",
       "      <td>NaN</td>\n",
       "      <td>2022.000000</td>\n",
       "      <td>12.000000</td>\n",
       "      <td>NaN</td>\n",
       "    </tr>\n",
       "  </tbody>\n",
       "</table>\n",
       "</div>"
      ],
      "text/plain": [
       "                  ID             Tipo_Atleta    sexo    Deporte Rango_Edad  \\\n",
       "count   6.000000e+04                   60000   60000      60000      60000   \n",
       "unique           NaN                       2       2         74         14   \n",
       "top              NaN  Atletas convencionales  Hombre  Atletismo      20-24   \n",
       "freq             NaN                   47951   35768       4047      20973   \n",
       "mean    5.295777e+05                     NaN     NaN        NaN        NaN   \n",
       "std     5.662602e+05                     NaN     NaN        NaN        NaN   \n",
       "min     1.100000e+01                     NaN     NaN        NaN        NaN   \n",
       "25%     1.297670e+05                     NaN     NaN        NaN        NaN   \n",
       "50%     1.303400e+05                     NaN     NaN        NaN        NaN   \n",
       "75%     1.303390e+06                     NaN     NaN        NaN        NaN   \n",
       "max     1.645738e+06                     NaN     NaN        NaN        NaN   \n",
       "\n",
       "                Organización_deportiva Subregión_nacimiento  \\\n",
       "count                            60000                60000   \n",
       "unique                              47                   10   \n",
       "top     Liga de Atletismo de Antioquia      Valle de Aburrá   \n",
       "freq                              4047                33761   \n",
       "mean                               NaN                  NaN   \n",
       "std                                NaN                  NaN   \n",
       "min                                NaN                  NaN   \n",
       "25%                                NaN                  NaN   \n",
       "50%                                NaN                  NaN   \n",
       "75%                                NaN                  NaN   \n",
       "max                                NaN                  NaN   \n",
       "\n",
       "       Municipio_nacimiento           Año           Mes Permanencia  \n",
       "count                 60000  60000.000000  60000.000000       60000  \n",
       "unique                   96           NaN           NaN           2  \n",
       "top                Medellín           NaN           NaN      Activo  \n",
       "freq                  27875           NaN           NaN       53815  \n",
       "mean                    NaN   2021.500000      6.492967         NaN  \n",
       "std                     NaN      0.500004      3.392857         NaN  \n",
       "min                     NaN   2021.000000      1.000000         NaN  \n",
       "25%                     NaN   2021.000000      4.000000         NaN  \n",
       "50%                     NaN   2021.500000      7.000000         NaN  \n",
       "75%                     NaN   2022.000000      9.000000         NaN  \n",
       "max                     NaN   2022.000000     12.000000         NaN  "
      ]
     },
     "execution_count": 5,
     "metadata": {},
     "output_type": "execute_result"
    }
   ],
   "source": [
    "df.describe(include='all')"
   ]
  },
  {
   "cell_type": "code",
   "execution_count": 6,
   "metadata": {},
   "outputs": [
    {
     "data": {
      "text/plain": [
       "1    53815\n",
       "0     6185\n",
       "Name: Permanencia, dtype: int64"
      ]
     },
     "execution_count": 6,
     "metadata": {},
     "output_type": "execute_result"
    }
   ],
   "source": [
    "# Reemplazar valores de la columna Permanencia por 1 y 0\n",
    "df['Permanencia'] = df['Permanencia'].replace('Activo', 1)\n",
    "df['Permanencia'] = df['Permanencia'].replace('Inactivo', 0)\n",
    "\n",
    "df.Permanencia.value_counts()"
   ]
  },
  {
   "cell_type": "code",
   "execution_count": 7,
   "metadata": {},
   "outputs": [
    {
     "data": {
      "image/png": "[encoded data removed]",
      "text/plain": [
       "<Figure size 576x432 with 1 Axes>"
      ]
     },
     "metadata": {
      "needs_background": "light"
     },
     "output_type": "display_data"
    }
   ],
   "source": [
    "# Analizar la variable objetivo \"Permanencia\"\n",
    "plt.figure(figsize=(8, 6))\n",
    "df['Permanencia'].value_counts().plot(kind='bar', color=['skyblue', 'salmon'])\n",
    "plt.title('Distribución de la Variable Objetivo \"Permanencia\"')\n",
    "plt.xlabel('Permanencia')\n",
    "plt.ylabel('Frecuencia')\n",
    "plt.xticks(rotation=0)\n",
    "plt.show()"
   ]
  },
  {
   "cell_type": "markdown",
   "metadata": {},
   "source": [
    "Podemos observar que la clase esta desbalanceada, tenemos que tratarlo"
   ]
  },
  {
   "cell_type": "markdown",
   "metadata": {},
   "source": [
    "# **1. Seleccionar Features y Target**\n"
   ]
  },
  {
   "cell_type": "code",
   "execution_count": 8,
   "metadata": {},
   "outputs": [],
   "source": [
    "target = \"Permanencia\"  # Variable objetivo\n",
    "features = df.columns.difference([target, \"ID\"])  # Todas menos el target y 'id'\n",
    "\n",
    "X = df[features]\n",
    "y = df[target]"
   ]
  },
  {
   "cell_type": "code",
   "execution_count": 9,
   "metadata": {},
   "outputs": [],
   "source": [
    "# Dividir en conjuntos de entrenamiento y prueba\n",
    "X_train, X_test, y_train, y_test = train_test_split(X, y, test_size=0.2, random_state=42)"
   ]
  },
  {
   "cell_type": "markdown",
   "metadata": {},
   "source": [
    "# **2. Configurar Preprocesamiento**"
   ]
  },
  {
   "cell_type": "code",
   "execution_count": 10,
   "metadata": {},
   "outputs": [
    {
     "data": {
      "text/plain": [
       "Index(['Deporte', 'Municipio_nacimiento', 'Organización_deportiva',\n",
       "       'Rango_Edad', 'Subregión_nacimiento', 'Tipo_Atleta', 'sexo'],\n",
       "      dtype='object')"
      ]
     },
     "execution_count": 10,
     "metadata": {},
     "output_type": "execute_result"
    }
   ],
   "source": [
    "# Identificar columnas categóricas y numéricas\n",
    "categorical_cols = X.select_dtypes(include=[\"object\"]).columns\n",
    "categorical_cols"
   ]
  },
  {
   "cell_type": "code",
   "execution_count": 11,
   "metadata": {},
   "outputs": [
    {
     "data": {
      "text/plain": [
       "Index(['Año', 'Mes'], dtype='object')"
      ]
     },
     "execution_count": 11,
     "metadata": {},
     "output_type": "execute_result"
    }
   ],
   "source": [
    "numeric_cols = X.select_dtypes(include=[\"number\"]).columns\n",
    "numeric_cols"
   ]
  },
  {
   "cell_type": "code",
   "execution_count": 12,
   "metadata": {},
   "outputs": [],
   "source": [
    "# Preprocesamiento para columnas categóricas y numéricas\n",
    "preprocessor = ColumnTransformer(\n",
    "    transformers=[\n",
    "        (\"num\", StandardScaler(), numeric_cols),\n",
    "        (\"cat\", OneHotEncoder(drop=\"first\"), categorical_cols),\n",
    "    ]\n",
    ")"
   ]
  },
  {
   "cell_type": "code",
   "execution_count": 13,
   "metadata": {},
   "outputs": [],
   "source": [
    "# Aplicar preprocesamiento a los datos de entrenamiento\n",
    "X_train_preprocessed = preprocessor.fit_transform(X_train)"
   ]
  },
  {
   "cell_type": "code",
   "execution_count": 14,
   "metadata": {},
   "outputs": [],
   "source": [
    "# Aplicar SMOTE para balancear la variable objetivo\n",
    "smote = SMOTE(random_state=42)\n",
    "X_train_res, y_train_res = smote.fit_resample(X_train_preprocessed, y_train)"
   ]
  },
  {
   "cell_type": "code",
   "execution_count": 15,
   "metadata": {},
   "outputs": [
    {
     "data": {
      "image/png": "[encoded data removed]",
      "text/plain": [
       "<Figure size 576x432 with 1 Axes>"
      ]
     },
     "metadata": {
      "needs_background": "light"
     },
     "output_type": "display_data"
    }
   ],
   "source": [
    "# Visualizar la distribución de la variable objetivo después de aplicar SMOTE\n",
    "plt.figure(figsize=(8, 6))\n",
    "y_train_res.value_counts().plot(kind='bar', color=['skyblue', 'salmon'])\n",
    "plt.title('Distribución de la Variable Objetivo \"Permanencia\" después de SMOTE')\n",
    "plt.xlabel('Permanencia')\n",
    "plt.ylabel('Frecuencia')\n",
    "plt.xticks(rotation=0)\n",
    "plt.show()"
   ]
  },
  {
   "cell_type": "markdown",
   "metadata": {},
   "source": [
    "# **3. Definir Modelos**"
   ]
  },
  {
   "cell_type": "code",
   "execution_count": 16,
   "metadata": {},
   "outputs": [],
   "source": [
    "# Definir los modelos a evaluar\n",
    "models = {\n",
    "    'Logistic Regression': LogisticRegression(),\n",
    "    'Random Forest': RandomForestClassifier(),\n",
    "    'Support Vector Machine': SVC()\n",
    "}"
   ]
  },
  {
   "cell_type": "markdown",
   "metadata": {},
   "source": [
    "# **4. Entrenamiento y Evaluación**"
   ]
  },
  {
   "cell_type": "code",
   "execution_count": 17,
   "metadata": {},
   "outputs": [
    {
     "name": "stderr",
     "output_type": "stream",
     "text": [
      "c:\\Users\\nicol\\AppData\\Local\\Programs\\Python\\Python39\\lib\\site-packages\\sklearn\\linear_model\\_logistic.py:444: ConvergenceWarning: lbfgs failed to converge (status=1):\n",
      "STOP: TOTAL NO. of ITERATIONS REACHED LIMIT.\n",
      "\n",
      "Increase the number of iterations (max_iter) or scale the data as shown in:\n",
      "    https://scikit-learn.org/stable/modules/preprocessing.html\n",
      "Please also refer to the documentation for alternative solver options:\n",
      "    https://scikit-learn.org/stable/modules/linear_model.html#logistic-regression\n",
      "  n_iter_i = _check_optimize_result(\n"
     ]
    },
    {
     "name": "stdout",
     "output_type": "stream",
     "text": [
      "Resultados de los Modelos:\n",
      "                   Modelo  Precisión  Exhaustividad (Recall)  F1-Score  \\\n",
      "0     Logistic Regression   0.897016                0.998140  0.944880   \n",
      "1           Random Forest   0.934917                0.974049  0.954082   \n",
      "2  Support Vector Machine   0.907584                0.998419  0.950837   \n",
      "\n",
      "    AUC-ROC  Tiempo Entrenamiento (s)  Tiempo Inferencia (s)  \n",
      "0  0.505875                  0.860009               0.036991  \n",
      "1  0.695191                 68.730905               0.450027  \n",
      "2  0.561659                129.388369               9.366003  \n"
     ]
    }
   ],
   "source": [
    "results = []\n",
    "\n",
    "for name, model in models.items():\n",
    "    # Crear el pipeline\n",
    "    pipeline = Pipeline(\n",
    "        steps=[\n",
    "            (\"preprocessor\", preprocessor),  # Preprocesamiento\n",
    "            (\"model\", model),  # Modelo específico\n",
    "        ]\n",
    "    )\n",
    "    \n",
    "    # Medir tiempo de entrenamiento\n",
    "    start_time = time.time()\n",
    "    \n",
    "    # Entrenar el pipeline\n",
    "    pipeline.fit(X_train, y_train)\n",
    "    \n",
    "    training_time = time.time() - start_time\n",
    "    \n",
    "    # Medir tiempo de inferencia\n",
    "    start_time = time.time()\n",
    "    \n",
    "    # Predecir en los datos de prueba\n",
    "    y_pred = pipeline.predict(X_test)\n",
    "    \n",
    "    inference_time = time.time() - start_time\n",
    "    \n",
    "    # Calcular métricas de desempeño\n",
    "    precision = precision_score(y_test, y_pred)\n",
    "    recall = recall_score(y_test, y_pred)\n",
    "    f1 = f1_score(y_test, y_pred)\n",
    "    auc_roc = roc_auc_score(y_test, y_pred)\n",
    "    \n",
    "    # Almacenar resultados\n",
    "    results.append(\n",
    "        {\n",
    "            \"Modelo\": name,\n",
    "            \"Precisión\": precision,\n",
    "            \"Exhaustividad (Recall)\": recall,\n",
    "            \"F1-Score\": f1,\n",
    "            \"AUC-ROC\": auc_roc,\n",
    "            \"Tiempo Entrenamiento (s)\": training_time,\n",
    "            \"Tiempo Inferencia (s)\": inference_time,\n",
    "        }\n",
    "    )\n",
    "\n",
    "# Convertir resultados a DataFrame\n",
    "results_df = pd.DataFrame(results)\n",
    "\n",
    "print(\"Resultados de los Modelos:\")\n",
    "print(results_df)\n"
   ]
  },
  {
   "cell_type": "code",
   "execution_count": 18,
   "metadata": {},
   "outputs": [],
   "source": [
    "# guarda los resultados en un archivo excel\n",
    "\n",
    "results_df.to_excel('..\\\\data\\\\processed\\\\results.xlsx', index=False)"
   ]
  },
  {
   "cell_type": "markdown",
   "metadata": {},
   "source": [
    "# **5. Visualización de Resultados**"
   ]
  },
  {
   "cell_type": "code",
   "execution_count": 19,
   "metadata": {},
   "outputs": [
    {
     "data": {
      "image/png": "[encoded data removed]",
      "text/plain": [
       "<Figure size 720x432 with 1 Axes>"
      ]
     },
     "metadata": {
      "needs_background": "light"
     },
     "output_type": "display_data"
    },
    {
     "data": {
      "image/png": "[encoded data removed]",
      "text/plain": [
       "<Figure size 720x432 with 1 Axes>"
      ]
     },
     "metadata": {
      "needs_background": "light"
     },
     "output_type": "display_data"
    },
    {
     "data": {
      "image/png": "[encoded data removed]",
      "text/plain": [
       "<Figure size 720x432 with 1 Axes>"
      ]
     },
     "metadata": {
      "needs_background": "light"
     },
     "output_type": "display_data"
    },
    {
     "data": {
      "image/png": "[encoded data removed]",
      "text/plain": [
       "<Figure size 720x432 with 1 Axes>"
      ]
     },
     "metadata": {
      "needs_background": "light"
     },
     "output_type": "display_data"
    },
    {
     "data": {
      "image/png": "[encoded data removed]",
      "text/plain": [
       "<Figure size 720x432 with 1 Axes>"
      ]
     },
     "metadata": {
      "needs_background": "light"
     },
     "output_type": "display_data"
    },
    {
     "data": {
      "image/png": "[encoded data removed]",
      "text/plain": [
       "<Figure size 720x432 with 1 Axes>"
      ]
     },
     "metadata": {
      "needs_background": "light"
     },
     "output_type": "display_data"
    }
   ],
   "source": [
    "# Definir las métricas a visualizar\n",
    "metrics = [\"Precisión\", \"Exhaustividad (Recall)\", \"F1-Score\", \"AUC-ROC\", \"Tiempo Entrenamiento (s)\", \"Tiempo Inferencia (s)\"]\n",
    "\n",
    "for metric in metrics:\n",
    "    plt.figure(figsize=(10, 6))\n",
    "    plt.bar(results_df[\"Modelo\"], results_df[metric], alpha=0.7, label=metric)\n",
    "    plt.ylabel(metric)\n",
    "    plt.title(f\"Comparación de Modelos - {metric}\")\n",
    "    plt.savefig(f'..\\\\data\\\\processed\\\\{metric}.png')  # Guardar la figura\n",
    "    plt.show()\n"
   ]
  },
  {
   "cell_type": "markdown",
   "metadata": {},
   "source": [
    "## Evaluar desempeño en los datos de entrenamiento"
   ]
  },
  {
   "cell_type": "code",
   "execution_count": 20,
   "metadata": {
    "vscode": {
     "languageId": "ruby"
    }
   },
   "outputs": [
    {
     "name": "stderr",
     "output_type": "stream",
     "text": [
      "c:\\Users\\nicol\\AppData\\Local\\Programs\\Python\\Python39\\lib\\site-packages\\sklearn\\linear_model\\_logistic.py:444: ConvergenceWarning: lbfgs failed to converge (status=1):\n",
      "STOP: TOTAL NO. of ITERATIONS REACHED LIMIT.\n",
      "\n",
      "Increase the number of iterations (max_iter) or scale the data as shown in:\n",
      "    https://scikit-learn.org/stable/modules/preprocessing.html\n",
      "Please also refer to the documentation for alternative solver options:\n",
      "    https://scikit-learn.org/stable/modules/linear_model.html#logistic-regression\n",
      "  n_iter_i = _check_optimize_result(\n"
     ]
    },
    {
     "name": "stdout",
     "output_type": "stream",
     "text": [
      "Resultados de los Modelos en los Datos de Entrenamiento:\n",
      "                   Modelo  Precisión  Exhaustividad (Recall)  F1-Score  \\\n",
      "0     Logistic Regression   0.898730                0.998862  0.946154   \n",
      "1           Random Forest   0.956842                0.989504  0.972899   \n",
      "2  Support Vector Machine   0.914243                0.998653  0.954586   \n",
      "\n",
      "    AUC-ROC  \n",
      "0  0.508446  \n",
      "1  0.800060  \n",
      "2  0.590696  \n",
      "\n",
      "Comparación con los Datos de Prueba:\n",
      "                   Modelo  Precisión  Exhaustividad (Recall)  F1-Score  \\\n",
      "0     Logistic Regression   0.897016                0.998140  0.944880   \n",
      "1           Random Forest   0.934917                0.974049  0.954082   \n",
      "2  Support Vector Machine   0.907584                0.998419  0.950837   \n",
      "\n",
      "    AUC-ROC  Tiempo Entrenamiento (s)  Tiempo Inferencia (s)  \n",
      "0  0.505875                  0.860009               0.036991  \n",
      "1  0.695191                 68.730905               0.450027  \n",
      "2  0.561659                129.388369               9.366003  \n"
     ]
    }
   ],
   "source": [
    "train_results = []\n",
    "\n",
    "for name, model in models.items():\n",
    "    # Crear el pipeline\n",
    "    pipeline = Pipeline(\n",
    "        steps=[\n",
    "            (\"preprocessor\", preprocessor),  # Preprocesamiento\n",
    "            (\"model\", model),  # Modelo específico\n",
    "        ]\n",
    "    )\n",
    "    \n",
    "    # Entrenar el pipeline\n",
    "    pipeline.fit(X_train, y_train)\n",
    "    \n",
    "    # Predecir en los datos de entrenamiento\n",
    "    y_train_pred = pipeline.predict(X_train)\n",
    "    \n",
    "    # Calcular métricas de desempeño en los datos de entrenamiento\n",
    "    train_precision = precision_score(y_train, y_train_pred)\n",
    "    train_recall = recall_score(y_train, y_train_pred)\n",
    "    train_f1 = f1_score(y_train, y_train_pred)\n",
    "    train_auc_roc = roc_auc_score(y_train, y_train_pred)\n",
    "    \n",
    "    # Almacenar resultados\n",
    "    train_results.append(\n",
    "        {\n",
    "            \"Modelo\": name,\n",
    "            \"Precisión\": train_precision,\n",
    "            \"Exhaustividad (Recall)\": train_recall,\n",
    "            \"F1-Score\": train_f1,\n",
    "            \"AUC-ROC\": train_auc_roc,\n",
    "        }\n",
    "    )\n",
    "\n",
    "# Convertir resultados a DataFrame\n",
    "train_results_df = pd.DataFrame(train_results)\n",
    "\n",
    "print(\"Resultados de los Modelos en los Datos de Entrenamiento:\")\n",
    "print(train_results_df)\n",
    "\n",
    "# Comparar con los resultados en los datos de prueba\n",
    "print(\"\\nComparación con los Datos de Prueba:\")\n",
    "print(results_df)"
   ]
  },
  {
   "cell_type": "markdown",
   "metadata": {},
   "source": [
    "# **6. Interpretación de Resultados**"
   ]
  },
  {
   "cell_type": "markdown",
   "metadata": {},
   "source": [
    "Los resultados de los modelos en los datos de entrenamiento y prueba muestran lo siguiente:"
   ]
  },
  {
   "cell_type": "markdown",
   "metadata": {},
   "source": [
    "**Logistic Regression:**\n",
    "\n",
    "- Entrenamiento: Alta precisión (0.898730) y recall (0.998862), pero un AUC-ROC bajo (0.508446).\n",
    "- Prueba: Resultados similares con alta precisión (0.897016) y recall (0.998140), pero AUC-ROC sigue bajo (0.505875).\n",
    "- Interpretación: El modelo tiene un buen desempeño en términos de precisión y recall, pero el AUC-ROC bajo sugiere que no discrimina bien entre clases."
   ]
  },
  {
   "cell_type": "markdown",
   "metadata": {},
   "source": [
    "**Random Forest:**\n",
    "\n",
    "- Entrenamiento: Alta precisión (0.956698), recall (0.989667) y AUC-ROC (0.799432).\n",
    "- Prueba: Precisión (0.935000), recall (0.974049) y AUC-ROC (0.695591) son buenos, aunque ligeramente menores que en entrenamiento.\n",
    "- Interpretación: Este modelo tiene un buen desempeño general y es robusto, aunque el tiempo de entrenamiento e inferencia es mayor."
   ]
  },
  {
   "cell_type": "markdown",
   "metadata": {},
   "source": [
    "**Support Vector Machine:**\n",
    "\n",
    "- Entrenamiento: Alta precisión (0.914243) y recall (0.998653), pero AUC-ROC moderado (0.590696).\n",
    "- Prueba: Alta precisión (0.907584) y recall (0.998419), pero AUC-ROC moderado (0.561659).\n",
    "- Interpretación: Similar a Logistic Regression, con buen desempeño en precisión y recall, pero AUC-ROC moderado y tiempos de entrenamiento e inferencia altos."
   ]
  },
  {
   "cell_type": "markdown",
   "metadata": {},
   "source": [
    "**Conclusión:**\n",
    "\n",
    "Random Forest parece ser el mejor modelo en términos de equilibrio entre precisión, recall y AUC-ROC, aunque es más costoso en términos de tiempo.\n",
    "Logistic Regression y Support Vector Machine tienen buen desempeño en precisión y recall, pero su capacidad de discriminación (AUC-ROC) es menor."
   ]
  }
 ],
 "metadata": {
  "kernelspec": {
   "display_name": "Python 3",
   "language": "python",
   "name": "python3"
  },
  "language_info": {
   "codemirror_mode": {
    "name": "ipython",
    "version": 3
   },
   "file_extension": ".py",
   "mimetype": "text/x-python",
   "name": "python",
   "nbconvert_exporter": "python",
   "pygments_lexer": "ipython3",
   "version": "3.9.5"
  }
 },
 "nbformat": 4,
 "nbformat_minor": 2
}
